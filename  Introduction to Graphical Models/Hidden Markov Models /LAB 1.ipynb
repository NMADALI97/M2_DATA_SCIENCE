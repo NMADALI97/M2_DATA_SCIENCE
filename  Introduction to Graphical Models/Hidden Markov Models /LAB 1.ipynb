{
  "nbformat": 4,
  "nbformat_minor": 0,
  "metadata": {
    "colab": {
      "name": "Lab1_madali_nabil.ipynb",
      "provenance": [],
      "collapsed_sections": []
    },
    "kernelspec": {
      "name": "python3",
      "display_name": "Python 3"
    }
  },
  "cells": [
    {
      "cell_type": "markdown",
      "metadata": {
        "id": "R6gOjflBCekg",
        "colab_type": "text"
      },
      "source": [
        "# Introduction to Probabilistic Graphical Models\n",
        "##     Practical session 1\n"
      ]
    },
    {
      "cell_type": "markdown",
      "metadata": {
        "id": "rZ3ujqEMC4Y4",
        "colab_type": "text"
      },
      "source": [
        "## Question 0 :\n",
        "\n",
        "In many practical applications, we often need to compute :\n",
        "\n",
        "$\\begin{equation}\n",
        "s = log\\left( \\sum\\limits_{i=1}^n e^{v_i}\\right)  \\quad \\text{ where $\\forall v_i$,  $v_i < 0$ and  $|v_i|$ is very large.}  \n",
        "\\end{equation} $\n",
        "\n",
        "Derive (mathematically) and implement $\\texttt{anumerically stable }$algorithm for computing $log\\left( \\sum\\limits_{i=1}^n e^{v_i}\\right)$, where $ v={\\{ v_i \\} }^I_{i=1} $ is a vector of numbers.  Explain why it should work.  Test your algorithm on log(sum(exp{-1234, -1235})).\n",
        "\n"
      ]
    },
    {
      "cell_type": "markdown",
      "metadata": {
        "id": "w6P-NuI4GIYt",
        "colab_type": "text"
      },
      "source": [
        "\n",
        "1. How can we compute $s = log\\left( \\sum\\limits_{i=1}^n e^{v_i}\\right)$ ?\n",
        "\n",
        "The problem to directly calculate this equation is that if one ${v_i}$ gets sufficient large, it will  underflow when calculating $e^{v_i}$ .\n",
        "\n",
        "We can get more arithmetic stability with a little algebra :\n",
        "$$\n",
        "s=log\\left( e^a\\sum\\limits_{i=1}^n e^{v_i-a}\\right)=log(e^a) + log\\left( \\sum\\limits_{i=1}^n e^{v_i-a}\\right)=a + log\\left( \\sum\\limits_{i=1}^n e^{v_i-a}\\right)\n",
        "$$\n",
        "\n",
        "\n",
        "Where  $a = \\max_{v_i \\in V } v_i  $\n",
        "\n",
        "We shift $ v={\\{ v_i \\} }^I_{i=1} $ by subtrcting the larget value so the largest value passed to the exponential function is 0. If there are really tiny values after subtraction, they’ll become zero and drop out, as they should with limited precision arithmetic.\n",
        "\n",
        "2.  For Example if $V = \\{-1234, -1235\\}$ .\n",
        "\n",
        "- If we use the naive  method:\n",
        "\n",
        "\n"
      ]
    },
    {
      "cell_type": "code",
      "metadata": {
        "id": "_vzv-WFbCIAW",
        "colab_type": "code",
        "outputId": "2c129190-5dd5-4acd-fd32-abaf3ecccbee",
        "colab": {
          "base_uri": "https://localhost:8080/",
          "height": 69
        }
      },
      "source": [
        "import numpy as np\n",
        "print(np.log(np.exp(np.array([-1234, -1235])).sum()))"
      ],
      "execution_count": 88,
      "outputs": [
        {
          "output_type": "stream",
          "text": [
            "-inf\n"
          ],
          "name": "stdout"
        },
        {
          "output_type": "stream",
          "text": [
            "/usr/local/lib/python3.6/dist-packages/ipykernel_launcher.py:2: RuntimeWarning: divide by zero encountered in log\n",
            "  \n"
          ],
          "name": "stderr"
        }
      ]
    },
    {
      "cell_type": "markdown",
      "metadata": {
        "id": "7wenXLbzQwES",
        "colab_type": "text"
      },
      "source": [
        "- If we use the Log-Sum-Exp Trick to Prevent Numerical Underflow"
      ]
    },
    {
      "cell_type": "code",
      "metadata": {
        "id": "Tc_lOUM9RZbA",
        "colab_type": "code",
        "outputId": "7834ef3f-804d-42ec-f4be-c09c0b879aa2",
        "colab": {
          "base_uri": "https://localhost:8080/",
          "height": 34
        }
      },
      "source": [
        "def Log_exp_sum(v):\n",
        "    a = max(v)\n",
        "    return a + np.log(np.exp(v - a).sum())\n",
        "\n",
        "print(Log_exp_sum(np.array([-1234, -1235])))"
      ],
      "execution_count": 89,
      "outputs": [
        {
          "output_type": "stream",
          "text": [
            "-1233.6867383124818\n"
          ],
          "name": "stdout"
        }
      ]
    },
    {
      "cell_type": "markdown",
      "metadata": {
        "id": "u_jsXgHwRFQ_",
        "colab_type": "text"
      },
      "source": [
        "## Question 1 :\n",
        "A robot is moving across a circular corridor.  We assume that the possible positions of the robot is a discrete set with $N$ locations.  The initial position of the robot is unknown and assumed to be uniformly distributed.  At each step k,the robot stays where it is with probability $\\epsilon$, or moves to the next point in counter-clock direction with probability $1−\\epsilon$.  At each stepk, the robot can observe its true position with probability $\\omega $.  With probability $1−\\omega $, the positionsensor fails and gives a measurement that is independent from the true position (uniformly distributed).\n",
        "\n",
        "\n"
      ]
    },
    {
      "cell_type": "markdown",
      "metadata": {
        "id": "0FJ4gYasSyrg",
        "colab_type": "text"
      },
      "source": [
        "1.  Choose the appropriate random variables, define their domains, write down the generative model and draw theassociated directed graphical model.\n",
        "\n",
        "We will denote:\n",
        "- $X_k \\in  \\left[0, N-1\\right]$ , the true position of the robot at each step k\n",
        "- $Y_k \\in     \\left[0, N-1\\right]$ , the observed position of the robot at each step k\n",
        "\n",
        "The associated directed graphical model.\n",
        "![ADG model](https://docs.google.com/uc?export=download&id=1lvZpwaYIQLtncMdj3Kk3FG3l-MW125pL)\n"
      ]
    },
    {
      "cell_type": "markdown",
      "metadata": {
        "id": "QDD12CCqU47c",
        "colab_type": "text"
      },
      "source": [
        "2.  Define the conditional probability tables (i.e., the transition model and the observation model) given the verbaldescription above."
      ]
    },
    {
      "cell_type": "markdown",
      "metadata": {
        "id": "v3vObmA1VF2d",
        "colab_type": "text"
      },
      "source": [
        "Let us denote :\n",
        "\n",
        "- The transition model is $T = p(x_k | x_{k-1}) = \\epsilon I_{N\\times N} + (1-\\epsilon)J_{N\\times N}$ where $J$ is the matrix obtained by permutating each  rows from $I$  to the left in a circular permutation .\n",
        "\n",
        "- The observation model is $O = p(y_k | x_{k}) =  w \\mathbb{1}_{x_k = y_k} + (1-w)U_{\\{ 0,...,N-1 \\} - \\{ x_k \\} }(1-\\mathbb{1}_{x_k = y_k})$ \n",
        "\n",
        "Where $U$ is the  Discret uniform distribution over $\\{ 0,...,N-1 \\} - \\{ x_k \\}$ elements.\n",
        "\n"
      ]
    },
    {
      "cell_type": "markdown",
      "metadata": {
        "id": "pywIZDONZh7c",
        "colab_type": "text"
      },
      "source": [
        "3.  Specify the following verbal statements in terms of posterior quantities using mathematical notation. For example“the  distribution  of  the  robot’s  location  two  time  steps  later  given  its  current  position  at  time  k”  should  beanswered as $p(x_{k+2} | x_{k})$ .\n",
        "\n"
      ]
    },
    {
      "cell_type": "markdown",
      "metadata": {
        "id": "tCz5YSveaGal",
        "colab_type": "text"
      },
      "source": [
        "- (a) Distribution of the robot's current position given the observations so far : $p(x_n | y_{1:n})$\n",
        "\n",
        "- (b)  Distribution of the robot's position at step k given the observations so far : $p(x_k | y_{1:n})$\n",
        "\n",
        "- (c)  Distribution of the robot's next position given the observations so far : $p(x_{n+1} | y_{1:n})$\n",
        "\n",
        "- (d) Distribution of the robot's next sensor reading given the observations so far : $p(y_{n+1} | y_{1:n})$\n",
        "\n",
        "- (e)  Distribution of the robot's initial location given the observations so far : $p(x_{1} | y_{1:n})$\n",
        "\n",
        "- (f)  Most likely position of the robot given the observations so far : $\\underset{a}{\\text{argmax}} \\; p(x_{n} = a \\,| y_{1:n})$\n",
        "\n",
        "- (g)  Most likely trajectory of the robot given the observations so far :  $\\underset{a_{1:n}}{\\text{argmax}} \\; p(x_{1:n} = a_{1:n} \\,| y_{1:n})$"
      ]
    },
    {
      "cell_type": "markdown",
      "metadata": {
        "id": "dMdilnQhahO3",
        "colab_type": "text"
      },
      "source": [
        "4. Implement a program that simulates this scenario; i.e., generates realizations from the movements of the robotand the associated sensor readings.  You can use the randgen function you wrote earlier.  Simulate a scenario for $k= 1,...,100$ with $N= 50$ ,  $\\epsilon= 0.3$ , $\\omega= 0.8$."
      ]
    },
    {
      "cell_type": "code",
      "metadata": {
        "id": "EMVz6NrfecLx",
        "colab_type": "code",
        "colab": {}
      },
      "source": [
        "import numpy as np\n",
        "import matplotlib.pyplot as plt\n",
        "\n",
        "k_max = 100\n",
        "N = 50\n",
        "ϵ, w = 0.3, 0.8\n",
        "I=np.eye(N)\n",
        "J = np.roll(I, 1, axis=0) \n",
        "T = ϵ * I + (1-ϵ) * J\n",
        "O = (1-w)/(N-1) * np.ones((N, N)) + (w - (1-w)/(N-1)) * np.eye(N)\n",
        "\n",
        "\n",
        "def Path( k_max,N,T,O):\n",
        "  obs=[]\n",
        "  pos=[]\n",
        "\n",
        "  pos.append(np.random.choice(N,p =np.ones(N)/N))\n",
        "  obs.append(np.random.choice(N, p=O[:, pos[-1]] ))\n",
        "  \n",
        "  for k in np.arange(1,k_max):\n",
        "    pos.append(np.random.choice(N, p=T[:, pos[-1]]))\n",
        "    obs.append(np.random.choice(N, p=O[:, pos[-1]] ))\n",
        "    \n",
        "  return np.array(pos),np.array(obs)\n",
        "\n"
      ],
      "execution_count": 0,
      "outputs": []
    },
    {
      "cell_type": "code",
      "metadata": {
        "id": "iVf6IjD_Aap_",
        "colab_type": "code",
        "colab": {}
      },
      "source": [
        "def co_fo(y,y_hat,k_max):\n",
        "  x_co=[]\n",
        "  y_co=[]\n",
        "  x_fo=[]\n",
        "  y_fo=[]\n",
        "  for i in range(k_max):\n",
        "    if y[i]==y_hat[i]:\n",
        "      y_co.append(y_hat[i])\n",
        "      x_co.append(i)\n",
        "    else :\n",
        "      y_fo.append(y_hat[i])\n",
        "      x_fo.append(i)\n",
        "  return np.array(x_co),np.array(y_co),np.array(x_fo),np.array(y_fo)"
      ],
      "execution_count": 0,
      "outputs": []
    },
    {
      "cell_type": "code",
      "metadata": {
        "id": "dQAsh2o9fKZA",
        "colab_type": "code",
        "outputId": "77e2fdd2-290c-4f96-a4f6-4b1b5a3b6f5d",
        "colab": {
          "base_uri": "https://localhost:8080/",
          "height": 356
        }
      },
      "source": [
        "true_positions,observations=Path(k_max,N,T,O)\n",
        "x1,y1,x2,y2=co_fo(true_positions,observations,k_max)\n",
        "plt.figure(figsize=(16,5))\n",
        "plt.plot(np.arange(k_max), true_positions,'bo', label=\"True Positions $x_k$\")\n",
        "\n",
        "plt.plot(x1, y1,'go', label=\"True observed Positions $y_k$\")\n",
        "plt.plot(x2, y2,'ro', label=\"False Observed Positions $y_k$\")\n",
        "\n",
        "plt.legend()\n",
        "plt.title(\"Simulated trajectory of the positions of the robot for $k= 1,...,100$ with $N= 50$,$\\epsilon= 0.3$,$\\omega= 0.8$.\")\n",
        "plt.xlabel(\"Step $k$\")\n",
        "plt.ylabel(\"Location\")\n",
        "plt.show()"
      ],
      "execution_count": 92,
      "outputs": [
        {
          "output_type": "display_data",
          "data": {
            "image/png": "[encoded data removed]",
            "text/plain": [
              "<Figure size 1152x360 with 1 Axes>"
            ]
          },
          "metadata": {
            "tags": []
          }
        }
      ]
    },
    {
      "cell_type": "markdown",
      "metadata": {
        "id": "_9AbguRxbAhl",
        "colab_type": "text"
      },
      "source": [
        "5.  Implement  the  Forward-Backward  algorithm  for  computing  the  quantities  defined  in  3-a,b,f.   (Attention:  becareful with numerical stability!  Modify the log-sum-exp trick for this algorithm)"
      ]
    },
    {
      "cell_type": "markdown",
      "metadata": {
        "id": "OjMxTLDbizEF",
        "colab_type": "text"
      },
      "source": [
        "#### 5.1 Forward step $\\mathbb{P}(x_k,y_{1:k})$\n",
        "\n",
        "$\\begin{equation}\\begin{split}\n",
        "\\underbrace{p(x_k, y_{1:k}) }_\\text{ $\\alpha_{k}$ }  &= \\sum_{x_{k-1}} p(x_k, y_{1:k}, x_{k-1}) \\\\\n",
        "&= \\sum_{x_{k-1}}p(y_k | y_{1:k-1}, x_{k-1}, x_k)p(y_{1:k-1}, x_{k-1}, x_k) \\\\\n",
        "&= \\sum_{x_{k-1}}p(y_k | y_{1:k-1}, x_{k-1}, x_k)p(x_k | y_{1:k-1}, x_{k-1})p(x_{k-1}, y_{1:k-1}) \\\\\n",
        "&= \\sum_{x_{k-1}}p(y_k | x_k)p(x_k | x_{k-1}) \\underbrace{p(x_{k-1}, y_{1:k-1}) }_\\text{ $\\alpha_{k-1}$ } \\\\\n",
        "&= O_k^T T\\alpha_{k-1} \\quad\\text{for } k >2\\text{, and}\\quad \\alpha_1 = p(x_1, y_{1}) = p(x_1)p(y_{1}|x_1)   \\\\\n",
        "\\end{split}\\end{equation}$\n",
        "\n",
        "\n"
      ]
    },
    {
      "cell_type": "markdown",
      "metadata": {
        "id": "48UjiaGikjJI",
        "colab_type": "text"
      },
      "source": [
        "#### 5.2 Backward step $\\mathbb{P}(y_{k+1:n} | x_k)$\n",
        "\n",
        "$\\begin{equation}\\begin{split}\n",
        "\\underbrace{p(y_{k+1:n} | x_k) }_\\text{ $\\beta_{k}$ } &= \\sum_{x_{k+1}} p(y_{k+2:n}, y_{k+1}, x_{k+1} |x_k) \\\\\n",
        "&= \\sum_{x_{k+1}} p(y_{k+2:n} |y_{k+1}, x_{k+1}, x_k)p(y_{k+1}, x_{k+1}| x_k) \\\\\n",
        "&= \\sum_{x_{k+1}} p(y_{k+2:n} |y_{k+1}, x_{k+1}, x_k)p(y_{k+1}| x_{k+1}, x_k)p(x_{k+1} | x_k) \\\\\n",
        "&= \\sum_{x_{k+1}} \\underbrace{p(y_{k+2:n} |x_{k+1}) }_\\text{ $\\beta_{k+1}$ }  p(y_{k+1}| x_{k+1})p(x_{k+1} | x_k) \\\\\n",
        "&= O_{k+1}^T \\beta_{k+1} T \\\\\n",
        "\\end{split}\\end{equation}$\n",
        "\n",
        "\n"
      ]
    },
    {
      "cell_type": "markdown",
      "metadata": {
        "id": "134fISEYDku4",
        "colab_type": "text"
      },
      "source": [
        "Multiplying a series of terms $p_1p_2⋯p_n$ where $0≤p_i≤1$ can easily result in a numerical underflow. This is especially the case when dealing with probabilistic models which involve such multiplication all the time. One solution commonly used is to work with the log of probabilities instead which turns multiplication into a summation. Since a summation does not decrease the magnitude of the result, the underflow problem can be avoided.\n",
        "\n",
        "Unfortunately, this little trick alone does not work when we have a sum of products of probabilities as in the case of, for example, the backward algorithm used in HMM,The solution here is the same as before. That is, we work with $log(\\beta_{k+1})$  instead. So, by taking the $log$ on both sides as well as putting $explog$ in the sum, we have:\n",
        "\n",
        "\n",
        "$\\begin{equation} \n",
        "\\begin{split}\n",
        "log(\\beta_{k+1}) &= log(\\sum_{x_{k+1}} exp(log( p(y_{k+2:n} |x_{k+1}) p(y_{k+1}| x_{k+1})p(x_{k+1} | x_k)) )) \\\\\n",
        " & = log ( \\sum\\limits_{i=1}^n e^{v_i})\n",
        "\\end{split}\n",
        "\\end{equation}$\n",
        "\n",
        "### References:\n",
        "1. [Log-Sum-Exp Trick to Prevent Numerical Underflow](http://http://wittawat.com/posts/log-sum_exp_underflow.html)."
      ]
    },
    {
      "cell_type": "code",
      "metadata": {
        "id": "hlk9vCYV5os2",
        "colab_type": "code",
        "colab": {}
      },
      "source": [
        "def Forward_Pass(T=T, O=O, observations=observations, N=N, k_max=k_max):  \n",
        "  \n",
        "    p0=np.ones(N)/N\n",
        "    log_α= np.zeros((N, k_max))\n",
        "    log_α[:, 0] = np.log(O[observations[0], :]) +np.log(p0) \n",
        "    for k in range(1, k_max):\n",
        "        m = np.max(log_α[:, k-1])\n",
        "        log_α[:, k] =m+ np.log(np.dot(T, np.exp(log_α[:, k-1] - m))) +np.log(O[observations[k], :])\n",
        "    return log_α\n",
        "\n",
        "\n"
      ],
      "execution_count": 0,
      "outputs": []
    },
    {
      "cell_type": "code",
      "metadata": {
        "id": "XcYDAzoPrrKh",
        "colab_type": "code",
        "colab": {}
      },
      "source": [
        "def Backward_Pass(T=T, O=O, observations=observations, N=N, k_max=k_max):\n",
        "   \n",
        "    log_β = np.zeros((N, k_max))\n",
        "    \n",
        "    log_β[:, k_max-1] = np.log(O[observations[k_max-1], :])\n",
        "    \n",
        "\n",
        "    for k in range(k_max-2, -1, -1):\n",
        "        m = np.max(log_β[:, k+1])\n",
        "        log_β[:, k] = m + np.log(np.dot(np.exp(log_β[:, k+1]-m), T))\n",
        "        log_β[:, k] = np.log(O[observations[k], :]) +log_β[:, k]  \n",
        "    return log_β\n",
        "\n",
        "\n",
        "\n"
      ],
      "execution_count": 0,
      "outputs": []
    },
    {
      "cell_type": "markdown",
      "metadata": {
        "id": "BY0qb5rsklh7",
        "colab_type": "text"
      },
      "source": [
        "#### 5.3 Computing  the  quantities  $p(x_k | y_{1:n}) $\n",
        "\n",
        "$\\begin{equation}\\begin{split}\n",
        "\\underbrace{p(x_k | y_{1:n}) }_\\text{ $\\gamma_{k}$ }   &= \\frac{1}{p(y_{1:n})}\\times p(x_k, y_{1:n}) = \\frac{1}{p(y_{1:n})}\\times p(x_k, y_{1:k}, y_{k+1:n}) \\\\\n",
        "&= \\frac{1}{p(y_{1:n})}\\times p(y_{k+1:n} | x_k, y_{1:k})p(x_k, y_{1:k})\\\\\n",
        "&= \\frac{1}{p(y_{1:n})}\\times \\underbrace{p(y_{k+1:n} | x_k) }_\\text{ $\\beta_{k+1}$ } \\underbrace{p(x_k, y_{1:k}) }_\\text{ $\\alpha_{k}$ }   \\\\\n",
        "& \\propto \\beta_{k+1}.\\alpha_{k}  \\\\\n",
        "\\end{split}\\end{equation}$\n",
        "\n"
      ]
    },
    {
      "cell_type": "markdown",
      "metadata": {
        "id": "XYcszNSt3VR2",
        "colab_type": "text"
      },
      "source": [
        "#### 5.4 Finding $\\underset{a}{\\text{argmax}} \\; p(x_{n} = a \\,| y_{1:n})$\n",
        "\n",
        "From $\\textbf{5.3}$ , we have the following :\n",
        "\n",
        "$\\begin{equation}\n",
        "\\underbrace{p(x_k | y_{1:n}) }_\\text{ $\\gamma_{k}$ }  \\propto \\beta_{k+1}.\\alpha_{k}\n",
        "\\end{equation}$\n",
        "\n",
        "\n",
        "- First we will compute the forward pass $\\alpha_k$ and backword pass $\\beta_k$ .\n",
        "\n",
        "- Then we sum   $log(\\alpha_k) +  log(\\beta_k)$ .\n",
        "\n",
        "- To get back to probability domain we will use the exponential function .\n",
        "\n",
        "- Finaly  we will normalize the output  to have a total probability of one at each k step and we  pick the index of the maximum value of $\\gamma_k$.\n",
        "\n",
        "#### Note : $\\text{To avoid wrong computations we will shift the exponential function by the $max_{i \\in \\gamma_{k}  } \\gamma_{k,i}$.}$"
      ]
    },
    {
      "cell_type": "code",
      "metadata": {
        "id": "IgjzSK8A1AjV",
        "colab_type": "code",
        "colab": {}
      },
      "source": [
        "def Normalizing (A, axis=None):\n",
        "    A =  np.exp(A-np.max(A, keepdims=True, axis=axis))\n",
        "    A=A / A.sum(axis=axis, keepdims=True)\n",
        "    \n",
        "    return A\n",
        "  \n",
        "  "
      ],
      "execution_count": 0,
      "outputs": []
    },
    {
      "cell_type": "code",
      "metadata": {
        "id": "qM2jN2AAFdiU",
        "colab_type": "code",
        "colab": {}
      },
      "source": [
        "def Argmax(A):\n",
        "  t=[]\n",
        "  for i in np.arange(A.shape[1]):\n",
        "    t.append(np.argmax(A[:,i]))\n",
        "  return np.array(t)"
      ],
      "execution_count": 0,
      "outputs": []
    },
    {
      "cell_type": "code",
      "metadata": {
        "id": "xwGBtbEh3t3w",
        "colab_type": "code",
        "outputId": "1100bd8d-15ad-4109-a93c-ba28c8ddca0c",
        "colab": {
          "base_uri": "https://localhost:8080/",
          "height": 356
        }
      },
      "source": [
        "\n",
        "true_positions,observations=Path(k_max,N,T,O)\n",
        "\n",
        "log_β = Backward_Pass()\n",
        "log_α= Forward_Pass()\n",
        "\n",
        "\n",
        "α = Normalizing(log_α, axis=0)\n",
        "β = Normalizing(log_β, axis=0)\n",
        "γ = Normalizing(log_α+log_β, axis=0)\n",
        "\n",
        "\n",
        "\n",
        "plt.figure(figsize=(16,5))\n",
        "plt.plot(np.arange(k_max), true_positions,'o', label=\"True Positions $x_k$\")\n",
        "plt.plot(np.arange(k_max), Argmax(γ),'x',color='red', label=\"argmax $  \\mathbb{P}(x_{n} = a \\,| y_{1:n})$\")\n",
        "plt.legend()\n",
        "plt.title(\"Simulated trajectory of the positions of the robot for $k= 1,...,100$ with $N= 50$,$\\epsilon= 0.3$,$\\omega= 0.8$.\")\n",
        "plt.xlabel(\"Step $k$\")\n",
        "plt.ylabel(\"Location \")\n",
        "plt.show()"
      ],
      "execution_count": 97,
      "outputs": [
        {
          "output_type": "display_data",
          "data": {
            "image/png": "[encoded data removed]",
            "text/plain": [
              "<Figure size 1152x360 with 1 Axes>"
            ]
          },
          "metadata": {
            "tags": []
          }
        }
      ]
    },
    {
      "cell_type": "markdown",
      "metadata": {
        "id": "FXrEA2OkjPYe",
        "colab_type": "text"
      },
      "source": [
        "6.  Assume now that at each step the robot can be kidnapped with probabilit $κ$.  If the robot is kidnapped its newposition is independent from its previous position and is uniformly distributed.  Repeat 4 and 5 for this newmodel with $κ= 0.1$.  Can you reuse your code?"
      ]
    },
    {
      "cell_type": "markdown",
      "metadata": {
        "id": "0NjBKhgx38nI",
        "colab_type": "text"
      },
      "source": [
        "We can reuse our code  by creating a new transition Matrix denoted $ T^* $ As following :\n",
        "\n",
        "\n",
        "$\\begin{equation}\\begin{split}\n",
        "T^*= κ 𝐽_N  +(1-κ) T  \\quad \\text{ Where $𝐽_N$ is   N $\\times$ N all-ones matrix  }  \\\\ \n",
        "\\end{split}\\end{equation}$"
      ]
    },
    {
      "cell_type": "code",
      "metadata": {
        "id": "L1TUkirCjO6L",
        "colab_type": "code",
        "colab": {}
      },
      "source": [
        "κ = 0.1\n",
        "T = (κ/N)* np.ones((N, N))+ (1-κ ) * T\n"
      ],
      "execution_count": 0,
      "outputs": []
    },
    {
      "cell_type": "code",
      "metadata": {
        "id": "Mt69hAupUuWg",
        "colab_type": "code",
        "outputId": "b04c194f-107f-4ed5-ff1f-a7ae96c9c9af",
        "colab": {
          "base_uri": "https://localhost:8080/",
          "height": 356
        }
      },
      "source": [
        "true_positions, observations = Path(k_max,N,T,O)\n",
        "\n",
        "\n",
        "x1,y1,x2,y2=co_fo(true_positions,observations,k_max)\n",
        "plt.figure(figsize=(16,5))\n",
        "plt.plot(np.arange(k_max), true_positions,'bo', label=\"True Positions $x_k$\")\n",
        "\n",
        "plt.plot(x1, y1,'go', label=\"True observed Positions $y_k$\")\n",
        "plt.plot(x2, y2,'ro', label=\"False Observed Positions $y_k$\")\n",
        "\n",
        "plt.legend()\n",
        "plt.title(\"Simulated history of the positions of the robot for the newmodel with $κ= 0.1$.\")\n",
        "plt.xlabel(\"Step $k$\")\n",
        "plt.ylabel(\"Location\")\n",
        "plt.show()\n",
        "\n",
        "\n",
        "log_α = Forward_Pass(T=T, observations=observations)\n",
        "log_β = Backward_Pass(T=T, observations= observations)\n",
        "\n",
        "α = Normalizing(log_α, axis=0)\n",
        "β = Normalizing(log_β, axis=0)\n",
        "γ = Normalizing(log_α+log_β, axis=0)\n",
        "\n"
      ],
      "execution_count": 99,
      "outputs": [
        {
          "output_type": "display_data",
          "data": {
            "image/png": "[encoded data removed]",
            "text/plain": [
              "<Figure size 1152x360 with 1 Axes>"
            ]
          },
          "metadata": {
            "tags": []
          }
        }
      ]
    },
    {
      "cell_type": "code",
      "metadata": {
        "id": "OcG3fkI0V__s",
        "colab_type": "code",
        "outputId": "343170bd-8a4a-432e-a3a3-856d4fa96baa",
        "colab": {
          "base_uri": "https://localhost:8080/",
          "height": 341
        }
      },
      "source": [
        "plt.figure(figsize=(16,5))\n",
        "plt.plot(np.arange(k_max), true_positions,'o', label=\"True Positions $x_k$\")\n",
        "plt.plot(np.arange(k_max), Argmax(γ),'x',color='red', label=\"argmax $  \\mathbb{P}(x_{n} = a \\,| y_{1:n})$\")\n",
        "plt.legend()\n",
        "\n",
        "plt.xlabel(\"Step $k$\")\n",
        "plt.ylabel(\"Location \")\n",
        "plt.show()"
      ],
      "execution_count": 100,
      "outputs": [
        {
          "output_type": "display_data",
          "data": {
            "image/png": "[encoded data removed]",
            "text/plain": [
              "<Figure size 1152x360 with 1 Axes>"
            ]
          },
          "metadata": {
            "tags": []
          }
        }
      ]
    }
  ]
}