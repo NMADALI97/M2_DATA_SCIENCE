{
  "nbformat": 4,
  "nbformat_minor": 0,
  "metadata": {
    "colab": {
      "name": "Probabilistic latent semantic analysis.ipynb",
      "provenance": [],
      "collapsed_sections": [],
      "machine_shape": "hm"
    },
    "kernelspec": {
      "name": "python3",
      "display_name": "Python 3"
    },
    "accelerator": "GPU"
  },
  "cells": [
    {
      "cell_type": "code",
      "metadata": {
        "id": "7zP9IKV9hpm7",
        "colab_type": "code",
        "outputId": "8e8b8197-c898-44bf-d0a4-07a548f8ad13",
        "colab": {
          "base_uri": "https://localhost:8080/",
          "height": 52
        }
      },
      "source": [
        "!pip install -U -q PyDrive\n",
        "from pydrive.auth import GoogleAuth\n",
        "from pydrive.drive import GoogleDrive\n",
        "from google.colab import auth\n",
        "from oauth2client.client import GoogleCredentials\n",
        "import zipfile, os\n",
        "\n",
        "# 1. Authenticate and create the PyDrive client.\n",
        "auth.authenticate_user()\n",
        "gauth = GoogleAuth()\n",
        "gauth.credentials = GoogleCredentials.get_application_default()\n",
        "drive = GoogleDrive(gauth)\n",
        "\n",
        "zip_id = '1UlSfj78z0sBV3ywrOMqXEi57RyGxhVKd'\n",
        "print (\"Downloading zip file\")\n",
        "myzip = drive.CreateFile({'id': zip_id})\n",
        "myzip.GetContentFile('model.zip')\n",
        "print (\"Uncompressing zip file\")\n",
        "zip_ref = zipfile.ZipFile('model.zip', 'r')\n",
        "zip_ref.extractall()\n",
        "zip_ref.close()"
      ],
      "execution_count": 0,
      "outputs": [
        {
          "output_type": "stream",
          "text": [
            "Downloading zip file\n",
            "Uncompressing zip file\n"
          ],
          "name": "stdout"
        }
      ]
    },
    {
      "cell_type": "code",
      "metadata": {
        "id": "ynthlFH4uFNH",
        "colab_type": "code",
        "colab": {}
      },
      "source": [
        "np_load_old = np.load\n",
        "\n",
        "\n",
        "np.load = lambda *a,**k: np_load_old(*a, allow_pickle=True, **k)\n",
        "\n",
        "X=np.load(\"X.npy\")\n",
        "\n",
        "word2id=np.load(\"word2id.npy\")\n",
        "word2id=dict((word2id[None])[0])\n",
        "np.load = np_load_old\n",
        "\n",
        "id2word = {v: k for k, v in word2id.items()}"
      ],
      "execution_count": 0,
      "outputs": []
    },
    {
      "cell_type": "code",
      "metadata": {
        "id": "h9oV_rtQuEDn",
        "colab_type": "code",
        "colab": {}
      },
      "source": [
        "import numpy as np\n",
        "from pylab import random\n",
        "import time\n",
        "N=X.shape[0]\n",
        "M=X.shape[1]\n",
        "K = 10    \n",
        "maxIteration = 30\n",
        "threshold = 10.0\n",
        "topicWordsNum = 10"
      ],
      "execution_count": 0,
      "outputs": []
    },
    {
      "cell_type": "code",
      "metadata": {
        "id": "kukQdVQ9vBdW",
        "colab_type": "code",
        "colab": {}
      },
      "source": [
        "lamda = random([N, K])\n",
        "\n",
        "for i in range(N):\n",
        "    lamda[i, :] /= sum(lamda[i, :]);\n",
        "   \n",
        "\n",
        "theta = random([K, M])\n",
        "\n",
        "for i in range(K):\n",
        "    theta[i, :] /= sum(theta[i, :])\n",
        "\n",
        "\n",
        "p = np.zeros([N, M, K])"
      ],
      "execution_count": 0,
      "outputs": []
    },
    {
      "cell_type": "code",
      "metadata": {
        "id": "lVluqmshuRgb",
        "colab_type": "code",
        "colab": {}
      },
      "source": [
        "def EStep():\n",
        "    for i in range(0, N):\n",
        "        for j in range(0, M):\n",
        "            denominator = 0;\n",
        "            for k in range(0, K):\n",
        "                p[i, j, k] = theta[k, j] * lamda[i, k];\n",
        "                denominator += p[i, j, k];\n",
        "            if denominator == 0:\n",
        "                for k in range(0, K):\n",
        "                    p[i, j, k] = 0;\n",
        "            else:\n",
        "                for k in range(0, K):\n",
        "                    p[i, j, k] /= denominator;"
      ],
      "execution_count": 0,
      "outputs": []
    },
    {
      "cell_type": "code",
      "metadata": {
        "id": "ZCsu6kTpslA8",
        "colab_type": "code",
        "colab": {}
      },
      "source": [
        "def MStep():\n",
        "   \n",
        "    for k in range(0, K):\n",
        "        denominator = 0\n",
        "        for j in range(0, M):\n",
        "            theta[k, j] = 0\n",
        "            for i in range(0, N):\n",
        "                theta[k, j] += X[i, j] * p[i, j, k]\n",
        "            denominator += theta[k, j]\n",
        "        if denominator == 0:\n",
        "            for j in range(0, M):\n",
        "                theta[k, j] = 1.0 / M\n",
        "        else:\n",
        "            for j in range(0, M):\n",
        "                theta[k, j] /= denominator\n",
        "        \n",
        "    \n",
        "    for i in range(0, N):\n",
        "        for k in range(0, K):\n",
        "            lamda[i, k] = 0\n",
        "            denominator = 0\n",
        "            for j in range(0, M):\n",
        "                lamda[i, k] += X[i, j] * p[i, j, k]\n",
        "                denominator += X[i, j];\n",
        "            if denominator == 0:\n",
        "                lamda[i, k] = 1.0 / K\n",
        "            else:\n",
        "                lamda[i, k] /= denominator\n"
      ],
      "execution_count": 0,
      "outputs": []
    },
    {
      "cell_type": "code",
      "metadata": {
        "id": "gGsLIlZQyewT",
        "colab_type": "code",
        "colab": {}
      },
      "source": [
        "def LogLikelihood():\n",
        "    loglikelihood = 0\n",
        "    for i in range(0, N):\n",
        "        for j in range(0, M):\n",
        "            tmp = 0\n",
        "            for k in range(0, K):\n",
        "                tmp += theta[k, j] * lamda[i, k]\n",
        "            if tmp > 0:\n",
        "                loglikelihood += X[i, j] * np.log(tmp)\n",
        "    return loglikelihood"
      ],
      "execution_count": 0,
      "outputs": []
    },
    {
      "cell_type": "code",
      "metadata": {
        "id": "8xrYl0njykX7",
        "colab_type": "code",
        "outputId": "0892c5e9-9f6e-418c-c672-1437cb513575",
        "colab": {
          "base_uri": "https://localhost:8080/",
          "height": 521
        }
      },
      "source": [
        "oldLoglikelihood = 1\n",
        "newLoglikelihood = 1\n",
        "for i in range(0, maxIteration):\n",
        "    EStep()\n",
        "    MStep()\n",
        "    newLoglikelihood = LogLikelihood()\n",
        "    print(\"[\", time.strftime('%Y-%m-%d %H:%M:%S',time.localtime(time.time())), \"] \", i+1, \" iteration  \", str(newLoglikelihood))\n",
        "    if(oldLoglikelihood != 1 and newLoglikelihood - oldLoglikelihood < threshold):\n",
        "        break\n",
        "    oldLoglikelihood = newLoglikelihood"
      ],
      "execution_count": 0,
      "outputs": [
        {
          "output_type": "stream",
          "text": [
            "[ 2019-12-05 11:33:52 ]  1  iteration   -147587.9804790245\n",
            "[ 2019-12-05 11:34:54 ]  2  iteration   -145377.72377402996\n",
            "[ 2019-12-05 11:35:57 ]  3  iteration   -142266.21796475846\n",
            "[ 2019-12-05 11:37:01 ]  4  iteration   -138433.2937099662\n",
            "[ 2019-12-05 11:38:04 ]  5  iteration   -134624.2768299272\n",
            "[ 2019-12-05 11:39:07 ]  6  iteration   -131531.9600974335\n",
            "[ 2019-12-05 11:40:10 ]  7  iteration   -129305.70218162914\n",
            "[ 2019-12-05 11:41:13 ]  8  iteration   -127753.85208206631\n",
            "[ 2019-12-05 11:42:16 ]  9  iteration   -126654.60695501043\n",
            "[ 2019-12-05 11:43:19 ]  10  iteration   -125854.54053576935\n",
            "[ 2019-12-05 11:44:22 ]  11  iteration   -125247.73157169727\n",
            "[ 2019-12-05 11:45:25 ]  12  iteration   -124777.44897796257\n",
            "[ 2019-12-05 11:46:29 ]  13  iteration   -124404.17846557255\n",
            "[ 2019-12-05 11:47:32 ]  14  iteration   -124115.70193074385\n",
            "[ 2019-12-05 11:48:35 ]  15  iteration   -123907.01620853985\n",
            "[ 2019-12-05 11:49:38 ]  16  iteration   -123755.50064833486\n",
            "[ 2019-12-05 11:50:41 ]  17  iteration   -123632.05922424291\n",
            "[ 2019-12-05 11:51:44 ]  18  iteration   -123531.6171026528\n",
            "[ 2019-12-05 11:52:47 ]  19  iteration   -123467.125121674\n",
            "[ 2019-12-05 11:53:50 ]  20  iteration   -123423.53633366051\n",
            "[ 2019-12-05 11:54:53 ]  21  iteration   -123385.30086068418\n",
            "[ 2019-12-05 11:55:57 ]  22  iteration   -123349.85268960906\n",
            "[ 2019-12-05 11:57:00 ]  23  iteration   -123323.48833938557\n",
            "[ 2019-12-05 11:58:03 ]  24  iteration   -123299.34411449358\n",
            "[ 2019-12-05 11:59:06 ]  25  iteration   -123275.92134573334\n",
            "[ 2019-12-05 12:00:09 ]  26  iteration   -123254.60152576634\n",
            "[ 2019-12-05 12:01:12 ]  27  iteration   -123237.97619449731\n",
            "[ 2019-12-05 12:02:16 ]  28  iteration   -123226.51530454094\n",
            "[ 2019-12-05 12:03:18 ]  29  iteration   -123216.86337027044\n"
          ],
          "name": "stdout"
        }
      ]
    },
    {
      "cell_type": "code",
      "metadata": {
        "id": "zUWgsAHo1Yjx",
        "colab_type": "code",
        "colab": {}
      },
      "source": [
        "p_d=1/100\n",
        "tmp=np.zeros((N,K,M))\n",
        "for j in range(M):\n",
        " for k in range(K):\n",
        "  for i in range (N):\n",
        "    tmp[i,k,j]=p_d*lamda[i,k]*theta[k,j]\n",
        "\n",
        "tmp2=np.zeros((K,M))\n",
        "for k in range(K):\n",
        "  for j in range(M):\n",
        "    tmp2[k,j]=np.sum(tmp[:,k,j])\n",
        "\n",
        "proba=np.zeros((K,M))\n",
        "for k in range(K):\n",
        "  for j in range(M):\n",
        "    proba[k,j]=tmp2[k,j]/np.sum(tmp2[:,j]) \n",
        "\n",
        "import matplotlib.pyplot as pp\n",
        "\n",
        "ar=proba.reshape(-1)\n",
        "pp.plot(ar, len(ar) * [1], \"x\")\n",
        "pp.show()      \n",
        "\n",
        "\n",
        "ar=lamda.reshape(-1)\n",
        "pp.plot(ar, len(ar) * [1], \"x\")\n",
        "pp.show()"
      ],
      "execution_count": 0,
      "outputs": []
    },
    {
      "cell_type": "code",
      "metadata": {
        "id": "4b0FMno50Fak",
        "colab_type": "code",
        "colab": {}
      },
      "source": [
        "import matplotlib.pyplot as pp\n",
        "\n",
        "ar=proba.reshape(-1)[0:int(len(proba.reshape(-1))  *(0.05) )]\n",
        "pp.plot(ar, len(ar) * [1], \"x\")\n",
        "pp.show()"
      ],
      "execution_count": 0,
      "outputs": []
    },
    {
      "cell_type": "code",
      "metadata": {
        "id": "UW9FAVozZgzU",
        "colab_type": "code",
        "colab": {}
      },
      "source": [
        "ar=lamda.reshape(-1)\n",
        "pp.plot(ar, len(ar) * [1], \"x\")\n",
        "pp.show()"
      ],
      "execution_count": 0,
      "outputs": []
    }
  ]
}